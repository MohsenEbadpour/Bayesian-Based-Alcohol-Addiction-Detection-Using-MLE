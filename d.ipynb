{
 "cells": [
  {
   "cell_type": "code",
   "execution_count": 2,
   "metadata": {},
   "outputs": [],
   "source": [
    "import numpy as np \n",
    "import pandas as pd \n",
    "import matplotlib.pyplot as plt\n",
    "import seaborn as sns \n",
    "import itertools\n",
    "import pylab as pl\n",
    "from sklearn import mixture\n",
    "from sklearn.mixture import GaussianMixture\n",
    "\n",
    "sns.set_style(\"darkgrid\")\n",
    "plt.rcParams[\"figure.figsize\"] = (15,15)"
   ]
  },
  {
   "cell_type": "code",
   "execution_count": 3,
   "metadata": {},
   "outputs": [],
   "source": [
    "# read data\n",
    "all_data = pd.read_csv(\"blood_test.txt\")\n",
    "\n",
    "# set labale addicted to data\n",
    "def SetLabel(row):\n",
    "    if row['drinks'] > 5 :\n",
    "        return 1\n",
    "    return 0\n",
    "\n",
    "all_data['addicted'] = all_data.apply (lambda row: SetLabel(row), axis=1)\n",
    "\n",
    "# seperate test and train data\n",
    "train_data = all_data.loc[all_data['selector'] == 1]\n",
    "train_data = train_data.drop('selector', axis=1)\n",
    "\n",
    "test_data = all_data.loc[all_data['selector'] == 2]\n",
    "test_data = test_data.drop('selector', axis=1)\n",
    "\n",
    "# shffule data \n",
    "train_data = train_data.sample(frac=1).reset_index(drop=True)\n",
    "test_data = test_data.sample(frac=1).reset_index(drop=True)\n",
    "\n",
    "test_data_labels = test_data[\"addicted\"]\n",
    "test_data = test_data.drop('addicted', axis=1)"
   ]
  },
  {
   "cell_type": "code",
   "execution_count": 4,
   "metadata": {},
   "outputs": [],
   "source": [
    "#pdf of the multivariate normal distribution\n",
    "def NormalMultivariate(x, d, mean, covariance):\n",
    "    x_m = x - mean\n",
    "    seg_1 = np.sqrt((2 * np.pi)**(d/2) * np.linalg.det(covariance))\n",
    "    return ((1. / seg_1) * np.exp(-(np.linalg.solve(covariance, x_m).T.dot(x_m)) / 2))"
   ]
  },
  {
   "cell_type": "code",
   "execution_count": 5,
   "metadata": {},
   "outputs": [],
   "source": [
    "PlotIndex = 1\n",
    "# Function to evalaute test data based on given prior and cost values \n",
    "# and normal distribution of each class \n",
    "def Evaluate(test_data,addicted_mean,addicted_covariance,not_addicted_mean,not_addicted_covariance,count,P0=0.5,P1=0.5,l12=1,l21=1):\n",
    "    global PlotIndex\n",
    "    Equal = 0\n",
    "    #Confusion Matrix array\n",
    "    CM = np.full((2,2),0, dtype = np.uint8)\n",
    "    \n",
    "    # select each test data\n",
    "    for test in range(0,len(test_data)) :\n",
    "        x = np.array(test_data.loc[test])\n",
    "        y = test_data_labels.loc[test]\n",
    "\n",
    "        # pmf of normal distribution of each class\n",
    "        p1= NormalMultivariate(x,len(x),addicted_mean,addicted_covariance)\n",
    "        p0= NormalMultivariate(x,len(x),not_addicted_mean,not_addicted_covariance)\n",
    "        \n",
    "        y_predict = 0\n",
    "        \n",
    "        # prediction rule \n",
    "        if p1*l21*P1 > p0*l12*P0 :\n",
    "            y_predict = 1\n",
    "\n",
    "        if p0!=p1 :\n",
    "            CM[y_predict][y]+= 1\n",
    "        else :\n",
    "            if p1 != 0 :\n",
    "                CM[1][y]+= 1\n",
    "            else :\n",
    "                Equal += 1\n",
    "    #Accuracy\n",
    "    acc  = round((CM[0][0]+CM[1][1])/(CM[0][0]+CM[1][1]+CM[1][0]+CM[0][1])*100,2)\n",
    "    \n",
    "    #plotting\n",
    "    if PlotIndex > 3 :\n",
    "        PlotIndex = 1\n",
    "    plt.subplot(3,1,PlotIndex)\n",
    "    PlotIndex +=1\n",
    "    sns.heatmap(CM, annot=True, cmap='Blues',fmt=\"g\")\n",
    "    plt.title(\"Confusion Matrix for indicating errors | Random Samples: {0} | Accuracy: {1}%\".format(count,acc))\n",
    "    return acc"
   ]
  },
  {
   "cell_type": "code",
   "execution_count": 6,
   "metadata": {},
   "outputs": [
    {
     "name": "stdout",
     "output_type": "stream",
     "text": [
      "Accuracy: 69.5  \t  Parameters: ['mcv', 'alkphos']\n",
      "Accuracy: 77.5  \t  Parameters: ['mcv', 'sgpt']\n",
      "Accuracy: 73.5  \t  Parameters: ['mcv', 'sgot']\n",
      "Accuracy: 73.5  \t  Parameters: ['mcv', 'gammagt']\n",
      "Accuracy: 76.0  \t  Parameters: ['alkphos', 'sgpt']\n",
      "Accuracy: 71.5  \t  Parameters: ['alkphos', 'sgot']\n",
      "Accuracy: 69.0  \t  Parameters: ['alkphos', 'gammagt']\n",
      "Accuracy: 73.0  \t  Parameters: ['sgpt', 'sgot']\n",
      "Accuracy: 72.0  \t  Parameters: ['sgpt', 'gammagt']\n",
      "Accuracy: 70.5  \t  Parameters: ['sgot', 'gammagt']\n"
     ]
    },
    {
     "data": {
      "text/plain": [
       "<Figure size 432x288 with 0 Axes>"
      ]
     },
     "metadata": {},
     "output_type": "display_data"
    }
   ],
   "source": [
    "# all Features\n",
    "Features = [\"mcv\",\"alkphos\",\"sgpt\",\"sgot\",\"gammagt\"]\n",
    "\n",
    "# store results\n",
    "BestFeatures = []\n",
    "BestAcc = []\n",
    "i = 0\n",
    "\n",
    "# select 100 random samples\n",
    "train_data_ = train_data.sample(100)\n",
    "not_addicted_sample = train_data_.loc[train_data['addicted'] == 0].drop('addicted', axis=1)\n",
    "addicted_sample = train_data_.loc[train_data['addicted'] == 1].drop('addicted', axis=1)\n",
    "\n",
    "# calculate accuracy of all combinations of two features\n",
    "for two_parameter in itertools.combinations(Features, 2):\n",
    "    two_parameter = list(two_parameter)\n",
    "    \n",
    "    # estimate parameters\n",
    "    n_mean = np.array(not_addicted_sample[two_parameter].mean())\n",
    "    n_cov = np.matrix(not_addicted_sample[two_parameter].cov())\n",
    "    \n",
    "    P0 = not_addicted_sample.shape[0]/train_data_.shape[0]\n",
    "    P1 = addicted_sample.shape[0]/train_data_.shape[0]\n",
    "    \n",
    "    a_mean = np.array(addicted_sample[two_parameter].mean())\n",
    "    a_cov = np.matrix(addicted_sample[two_parameter].cov())\n",
    "\n",
    "    #evaluate the estimated features\n",
    "    acc = Evaluate(test_data[two_parameter],a_mean,a_cov,n_mean,n_cov,i,P0,P1)\n",
    "    \n",
    "    BestFeatures.append(two_parameter)\n",
    "    BestAcc.append(acc)\n",
    "    i+=1\n",
    "    \n",
    "    plt.clf()\n",
    "\n",
    "# print results\n",
    "for i in range(len(BestAcc)):\n",
    "    print(\"Accuracy: {0}  \\t  Parameters: {1}\".format(round(BestAcc[i],2),BestFeatures[i]))\n",
    "selected = BestFeatures[BestAcc.index(max(BestAcc))]"
   ]
  },
  {
   "cell_type": "code",
   "execution_count": 7,
   "metadata": {},
   "outputs": [
    {
     "data": {
      "image/png": "[encoded data removed]",
      "text/plain": [
       "<Figure size 360x360 with 1 Axes>"
      ]
     },
     "metadata": {
      "needs_background": "light"
     },
     "output_type": "display_data"
    }
   ],
   "source": [
    "# estimate parameters for selected features\n",
    "n_mean = np.array(not_addicted_sample[selected].mean())\n",
    "n_cov = np.matrix(not_addicted_sample[selected].cov())\n",
    "\n",
    "P0 = not_addicted_sample.shape[0]/train_data_.shape[0]\n",
    "P1 = addicted_sample.shape[0]/train_data_.shape[0]\n",
    "\n",
    "a_mean = np.array(addicted_sample[selected].mean())\n",
    "a_cov = np.matrix(addicted_sample[selected].cov())\n",
    "\n",
    "train = np.r_[np.array(not_addicted_sample[selected]),np.array(addicted_sample[selected]),]\n",
    "\n",
    "\n",
    "\n",
    "def g0(x0, x1,p,l):\n",
    "    res = []\n",
    "    for _ in np.array(list(zip(x0, x1))) :\n",
    "        res.append(NormalMultivariate(_,len(_),n_mean,n_cov)*p*l)\n",
    "    return np.array(res)\n",
    "\n",
    "def g1(x0, x1,p,l):\n",
    "    res = []\n",
    "    for _ in np.array(list(zip(x0, x1))) :\n",
    "        res.append(NormalMultivariate(_,len(_),a_mean,a_cov)*p*l)\n",
    "    return np.array(res)\n",
    "\n",
    "\n",
    "\n",
    "# plotting\n",
    "X, Y = np.mgrid[train_data[selected[0]].min()-50:train_data[selected[0]].max()+50:100j, train_data[selected[1]].min()-50:train_data[selected[1]].max()+50:100j]\n",
    "x = X.ravel()\n",
    "y = Y.ravel()\n",
    "\n",
    "plt.rcParams[\"figure.figsize\"] = (5,5)\n",
    "p = (g0(x, y,P0,1) - g1(x, y,P1,1)).reshape(X.shape)\n",
    "\n",
    "plt.xlabel(selected[0])\n",
    "plt.ylabel(selected[1])\n",
    "plt.title(\"Bayes decision boundary | lambda_12 = lambda_21\")\n",
    "plt.contour(X, Y, p, levels=[0])\n",
    "plt.scatter(train_data.loc[train_data['addicted'] == 1][selected[0]], train_data.loc[train_data['addicted'] == 1][selected[1]], color = 'hotpink',label=\"addicted\")\n",
    "plt.scatter(train_data.loc[train_data['addicted'] == 0][selected[0]], train_data.loc[train_data['addicted'] == 0][selected[1]], color = '#88c999',label=\"not addicted\")\n",
    "plt.legend()\n",
    "plt.show()"
   ]
  },
  {
   "cell_type": "code",
   "execution_count": null,
   "metadata": {},
   "outputs": [],
   "source": []
  },
  {
   "cell_type": "code",
   "execution_count": null,
   "metadata": {},
   "outputs": [],
   "source": []
  }
 ],
 "metadata": {
  "kernelspec": {
   "display_name": "Python 3",
   "language": "python",
   "name": "python3"
  },
  "language_info": {
   "codemirror_mode": {
    "name": "ipython",
    "version": 3
   },
   "file_extension": ".py",
   "mimetype": "text/x-python",
   "name": "python",
   "nbconvert_exporter": "python",
   "pygments_lexer": "ipython3",
   "version": "3.9.12"
  }
 },
 "nbformat": 4,
 "nbformat_minor": 4
}
