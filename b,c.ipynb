{
 "cells": [
  {
   "cell_type": "code",
   "execution_count": 3,
   "metadata": {},
   "outputs": [],
   "source": [
    "import numpy as np \n",
    "import pandas as pd \n",
    "import matplotlib.pyplot as plt\n",
    "import seaborn as sns \n",
    "import itertools\n",
    "import pylab as pl\n",
    "import math\n",
    "\n",
    "sns.set_style(\"darkgrid\")\n",
    "plt.rcParams[\"figure.figsize\"] = (15,15)\n"
   ]
  },
  {
   "cell_type": "code",
   "execution_count": 4,
   "metadata": {},
   "outputs": [],
   "source": [
    "# read data\n",
    "all_data = pd.read_csv(\"blood_test.txt\")\n",
    "\n",
    "# set labale addicted to data\n",
    "def SetLabel(row):\n",
    "    if row['drinks'] > 5 :\n",
    "        return 1\n",
    "    return 0\n",
    "\n",
    "all_data['addicted'] = all_data.apply (lambda row: SetLabel(row), axis=1)\n",
    "\n",
    "# seperate test and train data\n",
    "train_data = all_data.loc[all_data['selector'] == 1]\n",
    "train_data = train_data.drop('selector', axis=1)\n",
    "\n",
    "test_data = all_data.loc[all_data['selector'] == 2]\n",
    "test_data = test_data.drop('selector', axis=1)\n",
    "\n",
    "# shffule data \n",
    "train_data = train_data.sample(frac=1).reset_index(drop=True)\n",
    "test_data = test_data.sample(frac=1).reset_index(drop=True)\n",
    "\n",
    "# Prior prob of each class \n",
    "P0 = train_data.loc[train_data['addicted'] == 0].shape[0] / train_data.shape[0]\n",
    "P1 = train_data.loc[train_data['addicted'] == 1].shape[0] / train_data.shape[0]\n",
    "\n",
    "test_data_labels = test_data[\"addicted\"]\n",
    "test_data = test_data.drop('addicted', axis=1)"
   ]
  },
  {
   "cell_type": "code",
   "execution_count": 5,
   "metadata": {},
   "outputs": [],
   "source": [
    "#pdf of the multivariate normal distribution\n",
    "def NormalMultivariate(x, d, mean, covariance):\n",
    "    x_m = x - mean\n",
    "    seg_1 = np.sqrt((2 * np.pi)**(d/2) * np.linalg.det(covariance))\n",
    "    return ((1. / seg_1) * np.exp(-(np.linalg.solve(covariance, x_m).T.dot(x_m)) / 2))\n"
   ]
  },
  {
   "cell_type": "code",
   "execution_count": 6,
   "metadata": {},
   "outputs": [],
   "source": [
    "\n",
    "PlotIndex = 1\n",
    "\n",
    "# Function to evalaute test data based on given prior and cost values \n",
    "# and normal distribution of each class \n",
    "def Evaluate(test_data,addicted_mean,addicted_covariance,not_addicted_mean,not_addicted_covariance,count,P0=0.5,P1=0.5,l12=1,l21=1):\n",
    "    global PlotIndex\n",
    "    Equal = 0\n",
    "    #Confusion Matrix array\n",
    "    CM = np.full((2,2),0, dtype = np.uint8)\n",
    "    \n",
    "    # select each test data\n",
    "    for test in range(0,len(test_data)) :\n",
    "        x = np.array(test_data.loc[test])\n",
    "        y = test_data_labels.loc[test]\n",
    "\n",
    "        # pmf of normal distribution of each class\n",
    "        p1= NormalMultivariate(x,len(x),addicted_mean,addicted_covariance)\n",
    "        p0= NormalMultivariate(x,len(x),not_addicted_mean,not_addicted_covariance)\n",
    "        \n",
    "        y_predict = 0\n",
    "        \n",
    "        # prediction rule \n",
    "        if p1*l21*P1 > p0*l12*P0 :\n",
    "            y_predict = 1\n",
    "\n",
    "        if p0!=p1 :\n",
    "            CM[y_predict][y]+= 1\n",
    "        else :\n",
    "            if p1 != 0 :\n",
    "                CM[1][y]+= 1\n",
    "            else :\n",
    "                Equal += 1\n",
    "    #Accuracy\n",
    "    acc  = round((CM[0][0]+CM[1][1])/(CM[0][0]+CM[1][1]+CM[1][0]+CM[0][1])*100,2)\n",
    "    \n",
    "    #plotting\n",
    "    if PlotIndex > 3 :\n",
    "        PlotIndex = 1\n",
    "    plt.subplot(3,1,PlotIndex)\n",
    "    PlotIndex +=1\n",
    "    sns.heatmap(CM, annot=True, cmap='Blues',fmt=\"g\")\n",
    "    plt.title(\"Confusion Matrix for indicating errors | Random Samples: {0} | Accuracy: {1}%\".format(count,acc))\n",
    "    return acc"
   ]
  },
  {
   "cell_type": "code",
   "execution_count": 7,
   "metadata": {},
   "outputs": [
    {
     "name": "stderr",
     "output_type": "stream",
     "text": [
      "C:\\Users\\Mohsen\\AppData\\Local\\Temp\\ipykernel_6724\\2872833933.py:4: RuntimeWarning: invalid value encountered in sqrt\n",
      "  seg_1 = np.sqrt((2 * np.pi)**(d/2) * np.linalg.det(covariance))\n",
      "C:\\Users\\Mohsen\\AppData\\Local\\Temp\\ipykernel_6724\\2872833933.py:5: RuntimeWarning: overflow encountered in exp\n",
      "  return ((1. / seg_1) * np.exp(-(np.linalg.solve(covariance, x_m).T.dot(x_m)) / 2))\n"
     ]
    },
    {
     "data": {
      "image/png": "[encoded data removed]",
      "text/plain": [
       "<Figure size 432x288 with 6 Axes>"
      ]
     },
     "metadata": {
      "needs_background": "light"
     },
     "output_type": "display_data"
    }
   ],
   "source": [
    "# select random samples and evaluate errors and CM and Accuracy\n",
    "PlotIndex = 1\n",
    "\n",
    "# n for -N-ot addicted\n",
    "# a for -A-ddicted\n",
    "\n",
    "for i in [10,50,100]:\n",
    "    n_count = 0\n",
    "    while n_count < 1 :\n",
    "        # select random\n",
    "        train_data = train_data.sample(frac=1).reset_index(drop=True)\n",
    "        train_data_ = train_data.sample(i)\n",
    "\n",
    "        #seperate each class\n",
    "        not_addicted_sample = train_data_.loc[train_data['addicted'] == 0].drop('addicted', axis=1)\n",
    "        addicted_sample = train_data_.loc[train_data['addicted'] == 1].drop('addicted', axis=1)\n",
    "        \n",
    "        n_count = not_addicted_sample.shape[0]\n",
    "\n",
    "    # prior prob\n",
    "    P0_ = not_addicted_sample.shape[0]/train_data_.shape[0]    \n",
    "    P1_ = addicted_sample.shape[0]/train_data_.shape[0]\n",
    "    \n",
    "    # estimate parameters\n",
    "    n_mean = np.array(not_addicted_sample.mean())\n",
    "    n_cov = np.array(not_addicted_sample.cov())\n",
    "\n",
    "    a_mean = np.array(addicted_sample.mean())\n",
    "    a_cov = np.array(addicted_sample.cov())\n",
    "    \n",
    "    #evaluate the estimated parameter\n",
    "    Evaluate(test_data,a_mean,a_cov,n_mean,n_cov,i,P0_,P1_)\n",
    "plt.show()"
   ]
  },
  {
   "cell_type": "code",
   "execution_count": null,
   "metadata": {},
   "outputs": [],
   "source": []
  },
  {
   "cell_type": "code",
   "execution_count": null,
   "metadata": {},
   "outputs": [],
   "source": []
  },
  {
   "cell_type": "code",
   "execution_count": null,
   "metadata": {},
   "outputs": [],
   "source": []
  },
  {
   "cell_type": "code",
   "execution_count": null,
   "metadata": {},
   "outputs": [],
   "source": []
  }
 ],
 "metadata": {
  "kernelspec": {
   "display_name": "Python 3",
   "language": "python",
   "name": "python3"
  },
  "language_info": {
   "codemirror_mode": {
    "name": "ipython",
    "version": 3
   },
   "file_extension": ".py",
   "mimetype": "text/x-python",
   "name": "python",
   "nbconvert_exporter": "python",
   "pygments_lexer": "ipython3",
   "version": "3.9.12"
  }
 },
 "nbformat": 4,
 "nbformat_minor": 4
}
